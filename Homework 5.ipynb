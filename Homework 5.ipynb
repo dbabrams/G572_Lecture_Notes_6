{
 "cells": [
  {
   "cell_type": "markdown",
   "metadata": {
    "colab_type": "text",
    "id": "-LRuOh2ZMjG2"
   },
   "source": [
    "# <center>Homework 5</center>"
   ]
  },
  {
   "cell_type": "markdown",
   "metadata": {
    "colab_type": "text",
    "id": "D6G93eD4MjG4"
   },
   "source": [
    "## <center> Due March 9 at midnight"
   ]
  },
  {
   "cell_type": "markdown",
   "metadata": {
    "colab_type": "text",
    "id": "rxCfzujEMjG6"
   },
   "source": [
    "The McHenry County Water Resource Specialist is looking for new ways to view data that is being collected by the county. The USGS is currently collecting data in real-time for a number of wells in McHenry County. Your task in this assignment is to explore the real-time data in McHenry County and decide on dates to create two potentiometric surfaces, one preceding the 2021 drought (this might either be in late 2020 or early 2021) and another at the peak of the 2021 drought. <b>The wells you will be using for this assignment can be found in the Excel file 'gwmchenry_deep.xlsx'. The files contains columns that (respectively) contain USGS Site Number, Site Name, and Land Surface Elevation.</b>\n",
    "\n",
    "<i>Note that the code should might need to take into account the possibility of outliers. In particular, think about what happens if your code includes 'NaN' head values (which can and likely will happen at some point over the next few weeks).</i>  \n",
    "\n",
    "### <center>Part I: Compile Data for Each Well</center>\n",
    "\n",
    "Using Python, create a Pandas DataFrame that contains the USGS Site Number as the index and columns showing: \n",
    "<ul>\n",
    "    <li>Site Name</li>\n",
    "    <li>Latitude</li>\n",
    "    <li>Longitude</li>\n",
    "    <li>Land Surface Elevation</li>\n",
    "    <li>Date-time of the most recent data point</li>\n",
    "    <li>Head (in ft above MSL) of the most recent data point</li>\n",
    "</ul>\n",
    "\n",
    "<b>Remember that the USGS web service will return depth to water. You need to convert this to a head.</b>\n",
    "\n",
    "Seleect two hydrographs and create figures in your code that show the heads before and at the peak of the recent 2021 drought. \n",
    "\n",
    "### <center>Part II: Create maps from this data</center>\n",
    "\n",
    "Create maps showing the:\n",
    "<ul>\n",
    "    <li>Potentiometric surface for a date prior to the 2021 drought</li>\n",
    "    <li>Potentiometric surface for a date near the peak of the 2021 drought</li>\n",
    "    <li>Head difference (ft) between the two surfaces</li>\n",
    "</ul>\n",
    "\n",
    "Make sure that maps include the following:\n",
    "<ul>\n",
    "    <li>Contours with labels</li>\n",
    "    <li>A title with the date in a readable format</li>\n",
    "    <li>A color flood</li>\n",
    "    <li>A color bar</li>\n",
    "</ul>\n",
    "\n",
    "<b>You are responsible to search the internet and determine a  way to assign a color flood and color bar.</b>\n",
    "\n",
    "<b>At this point, you do not need to add further spatial references, such as county boundaries or rivers. You will need to add this information for your group project, either in Python, ArcGIS, or QGIS.</b>    "
   ]
  },
  {
   "cell_type": "code",
   "execution_count": 0,
   "metadata": {
    "colab": {},
    "colab_type": "code",
    "id": "6oxUU6u_MjG7"
   },
   "outputs": [],
   "source": []
  }
 ],
 "metadata": {
  "colab": {
   "name": "Prob Set 6 and 7.ipynb",
   "provenance": []
  },
  "kernelspec": {
   "display_name": "Python 3",
   "language": "python",
   "name": "python3"
  },
  "language_info": {
   "codemirror_mode": {
    "name": "ipython",
    "version": 3
   },
   "file_extension": ".py",
   "mimetype": "text/x-python",
   "name": "python",
   "nbconvert_exporter": "python",
   "pygments_lexer": "ipython3",
   "version": "3.8.5"
  }
 },
 "nbformat": 4,
 "nbformat_minor": 1
}
